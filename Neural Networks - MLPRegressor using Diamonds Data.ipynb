{
 "cells": [
  {
   "cell_type": "code",
   "execution_count": 1,
   "metadata": {},
   "outputs": [
    {
     "name": "stderr",
     "output_type": "stream",
     "text": [
      "In C:\\ProgramData\\Anaconda3\\lib\\site-packages\\matplotlib\\mpl-data\\stylelib\\_classic_test.mplstyle: \n",
      "The text.latex.preview rcparam was deprecated in Matplotlib 3.3 and will be removed two minor releases later.\n",
      "In C:\\ProgramData\\Anaconda3\\lib\\site-packages\\matplotlib\\mpl-data\\stylelib\\_classic_test.mplstyle: \n",
      "The mathtext.fallback_to_cm rcparam was deprecated in Matplotlib 3.3 and will be removed two minor releases later.\n",
      "In C:\\ProgramData\\Anaconda3\\lib\\site-packages\\matplotlib\\mpl-data\\stylelib\\_classic_test.mplstyle: Support for setting the 'mathtext.fallback_to_cm' rcParam is deprecated since 3.3 and will be removed two minor releases later; use 'mathtext.fallback : 'cm' instead.\n",
      "In C:\\ProgramData\\Anaconda3\\lib\\site-packages\\matplotlib\\mpl-data\\stylelib\\_classic_test.mplstyle: \n",
      "The validate_bool_maybe_none function was deprecated in Matplotlib 3.3 and will be removed two minor releases later.\n",
      "In C:\\ProgramData\\Anaconda3\\lib\\site-packages\\matplotlib\\mpl-data\\stylelib\\_classic_test.mplstyle: \n",
      "The savefig.jpeg_quality rcparam was deprecated in Matplotlib 3.3 and will be removed two minor releases later.\n",
      "In C:\\ProgramData\\Anaconda3\\lib\\site-packages\\matplotlib\\mpl-data\\stylelib\\_classic_test.mplstyle: \n",
      "The keymap.all_axes rcparam was deprecated in Matplotlib 3.3 and will be removed two minor releases later.\n",
      "In C:\\ProgramData\\Anaconda3\\lib\\site-packages\\matplotlib\\mpl-data\\stylelib\\_classic_test.mplstyle: \n",
      "The animation.avconv_path rcparam was deprecated in Matplotlib 3.3 and will be removed two minor releases later.\n",
      "In C:\\ProgramData\\Anaconda3\\lib\\site-packages\\matplotlib\\mpl-data\\stylelib\\_classic_test.mplstyle: \n",
      "The animation.avconv_args rcparam was deprecated in Matplotlib 3.3 and will be removed two minor releases later.\n"
     ]
    }
   ],
   "source": [
    "import pandas as pd\n",
    "import seaborn as sb\n",
    "import sklearn.neural_network as sknn"
   ]
  },
  {
   "cell_type": "code",
   "execution_count": 2,
   "metadata": {},
   "outputs": [],
   "source": [
    "import matplotlib.pyplot as plt\n",
    "import numpy as np"
   ]
  },
  {
   "cell_type": "code",
   "execution_count": 3,
   "metadata": {},
   "outputs": [],
   "source": [
    "df = sb.load_dataset('diamonds')"
   ]
  },
  {
   "cell_type": "code",
   "execution_count": 4,
   "metadata": {},
   "outputs": [
    {
     "data": {
      "text/html": [
       "<div>\n",
       "<style scoped>\n",
       "    .dataframe tbody tr th:only-of-type {\n",
       "        vertical-align: middle;\n",
       "    }\n",
       "\n",
       "    .dataframe tbody tr th {\n",
       "        vertical-align: top;\n",
       "    }\n",
       "\n",
       "    .dataframe thead th {\n",
       "        text-align: right;\n",
       "    }\n",
       "</style>\n",
       "<table border=\"1\" class=\"dataframe\">\n",
       "  <thead>\n",
       "    <tr style=\"text-align: right;\">\n",
       "      <th></th>\n",
       "      <th>carat</th>\n",
       "      <th>cut</th>\n",
       "      <th>color</th>\n",
       "      <th>clarity</th>\n",
       "      <th>depth</th>\n",
       "      <th>table</th>\n",
       "      <th>price</th>\n",
       "      <th>x</th>\n",
       "      <th>y</th>\n",
       "      <th>z</th>\n",
       "    </tr>\n",
       "  </thead>\n",
       "  <tbody>\n",
       "    <tr>\n",
       "      <td>0</td>\n",
       "      <td>0.23</td>\n",
       "      <td>Ideal</td>\n",
       "      <td>E</td>\n",
       "      <td>SI2</td>\n",
       "      <td>61.5</td>\n",
       "      <td>55.0</td>\n",
       "      <td>326</td>\n",
       "      <td>3.95</td>\n",
       "      <td>3.98</td>\n",
       "      <td>2.43</td>\n",
       "    </tr>\n",
       "    <tr>\n",
       "      <td>1</td>\n",
       "      <td>0.21</td>\n",
       "      <td>Premium</td>\n",
       "      <td>E</td>\n",
       "      <td>SI1</td>\n",
       "      <td>59.8</td>\n",
       "      <td>61.0</td>\n",
       "      <td>326</td>\n",
       "      <td>3.89</td>\n",
       "      <td>3.84</td>\n",
       "      <td>2.31</td>\n",
       "    </tr>\n",
       "    <tr>\n",
       "      <td>2</td>\n",
       "      <td>0.23</td>\n",
       "      <td>Good</td>\n",
       "      <td>E</td>\n",
       "      <td>VS1</td>\n",
       "      <td>56.9</td>\n",
       "      <td>65.0</td>\n",
       "      <td>327</td>\n",
       "      <td>4.05</td>\n",
       "      <td>4.07</td>\n",
       "      <td>2.31</td>\n",
       "    </tr>\n",
       "    <tr>\n",
       "      <td>3</td>\n",
       "      <td>0.29</td>\n",
       "      <td>Premium</td>\n",
       "      <td>I</td>\n",
       "      <td>VS2</td>\n",
       "      <td>62.4</td>\n",
       "      <td>58.0</td>\n",
       "      <td>334</td>\n",
       "      <td>4.20</td>\n",
       "      <td>4.23</td>\n",
       "      <td>2.63</td>\n",
       "    </tr>\n",
       "    <tr>\n",
       "      <td>4</td>\n",
       "      <td>0.31</td>\n",
       "      <td>Good</td>\n",
       "      <td>J</td>\n",
       "      <td>SI2</td>\n",
       "      <td>63.3</td>\n",
       "      <td>58.0</td>\n",
       "      <td>335</td>\n",
       "      <td>4.34</td>\n",
       "      <td>4.35</td>\n",
       "      <td>2.75</td>\n",
       "    </tr>\n",
       "  </tbody>\n",
       "</table>\n",
       "</div>"
      ],
      "text/plain": [
       "   carat      cut color clarity  depth  table  price     x     y     z\n",
       "0   0.23    Ideal     E     SI2   61.5   55.0    326  3.95  3.98  2.43\n",
       "1   0.21  Premium     E     SI1   59.8   61.0    326  3.89  3.84  2.31\n",
       "2   0.23     Good     E     VS1   56.9   65.0    327  4.05  4.07  2.31\n",
       "3   0.29  Premium     I     VS2   62.4   58.0    334  4.20  4.23  2.63\n",
       "4   0.31     Good     J     SI2   63.3   58.0    335  4.34  4.35  2.75"
      ]
     },
     "execution_count": 4,
     "metadata": {},
     "output_type": "execute_result"
    }
   ],
   "source": [
    "df.head()"
   ]
  },
  {
   "cell_type": "code",
   "execution_count": 5,
   "metadata": {},
   "outputs": [],
   "source": [
    "df = pd.get_dummies(df,columns=['color','clarity','cut'])"
   ]
  },
  {
   "cell_type": "code",
   "execution_count": 6,
   "metadata": {},
   "outputs": [
    {
     "data": {
      "text/html": [
       "<div>\n",
       "<style scoped>\n",
       "    .dataframe tbody tr th:only-of-type {\n",
       "        vertical-align: middle;\n",
       "    }\n",
       "\n",
       "    .dataframe tbody tr th {\n",
       "        vertical-align: top;\n",
       "    }\n",
       "\n",
       "    .dataframe thead th {\n",
       "        text-align: right;\n",
       "    }\n",
       "</style>\n",
       "<table border=\"1\" class=\"dataframe\">\n",
       "  <thead>\n",
       "    <tr style=\"text-align: right;\">\n",
       "      <th></th>\n",
       "      <th>carat</th>\n",
       "      <th>depth</th>\n",
       "      <th>table</th>\n",
       "      <th>price</th>\n",
       "      <th>x</th>\n",
       "      <th>y</th>\n",
       "      <th>z</th>\n",
       "      <th>color_D</th>\n",
       "      <th>color_E</th>\n",
       "      <th>color_F</th>\n",
       "      <th>...</th>\n",
       "      <th>clarity_SI2</th>\n",
       "      <th>clarity_VS1</th>\n",
       "      <th>clarity_VS2</th>\n",
       "      <th>clarity_VVS1</th>\n",
       "      <th>clarity_VVS2</th>\n",
       "      <th>cut_Fair</th>\n",
       "      <th>cut_Good</th>\n",
       "      <th>cut_Ideal</th>\n",
       "      <th>cut_Premium</th>\n",
       "      <th>cut_Very Good</th>\n",
       "    </tr>\n",
       "  </thead>\n",
       "  <tbody>\n",
       "    <tr>\n",
       "      <td>0</td>\n",
       "      <td>0.23</td>\n",
       "      <td>61.5</td>\n",
       "      <td>55.0</td>\n",
       "      <td>326</td>\n",
       "      <td>3.95</td>\n",
       "      <td>3.98</td>\n",
       "      <td>2.43</td>\n",
       "      <td>0</td>\n",
       "      <td>1</td>\n",
       "      <td>0</td>\n",
       "      <td>...</td>\n",
       "      <td>1</td>\n",
       "      <td>0</td>\n",
       "      <td>0</td>\n",
       "      <td>0</td>\n",
       "      <td>0</td>\n",
       "      <td>0</td>\n",
       "      <td>0</td>\n",
       "      <td>1</td>\n",
       "      <td>0</td>\n",
       "      <td>0</td>\n",
       "    </tr>\n",
       "    <tr>\n",
       "      <td>1</td>\n",
       "      <td>0.21</td>\n",
       "      <td>59.8</td>\n",
       "      <td>61.0</td>\n",
       "      <td>326</td>\n",
       "      <td>3.89</td>\n",
       "      <td>3.84</td>\n",
       "      <td>2.31</td>\n",
       "      <td>0</td>\n",
       "      <td>1</td>\n",
       "      <td>0</td>\n",
       "      <td>...</td>\n",
       "      <td>0</td>\n",
       "      <td>0</td>\n",
       "      <td>0</td>\n",
       "      <td>0</td>\n",
       "      <td>0</td>\n",
       "      <td>0</td>\n",
       "      <td>0</td>\n",
       "      <td>0</td>\n",
       "      <td>1</td>\n",
       "      <td>0</td>\n",
       "    </tr>\n",
       "    <tr>\n",
       "      <td>2</td>\n",
       "      <td>0.23</td>\n",
       "      <td>56.9</td>\n",
       "      <td>65.0</td>\n",
       "      <td>327</td>\n",
       "      <td>4.05</td>\n",
       "      <td>4.07</td>\n",
       "      <td>2.31</td>\n",
       "      <td>0</td>\n",
       "      <td>1</td>\n",
       "      <td>0</td>\n",
       "      <td>...</td>\n",
       "      <td>0</td>\n",
       "      <td>1</td>\n",
       "      <td>0</td>\n",
       "      <td>0</td>\n",
       "      <td>0</td>\n",
       "      <td>0</td>\n",
       "      <td>1</td>\n",
       "      <td>0</td>\n",
       "      <td>0</td>\n",
       "      <td>0</td>\n",
       "    </tr>\n",
       "    <tr>\n",
       "      <td>3</td>\n",
       "      <td>0.29</td>\n",
       "      <td>62.4</td>\n",
       "      <td>58.0</td>\n",
       "      <td>334</td>\n",
       "      <td>4.20</td>\n",
       "      <td>4.23</td>\n",
       "      <td>2.63</td>\n",
       "      <td>0</td>\n",
       "      <td>0</td>\n",
       "      <td>0</td>\n",
       "      <td>...</td>\n",
       "      <td>0</td>\n",
       "      <td>0</td>\n",
       "      <td>1</td>\n",
       "      <td>0</td>\n",
       "      <td>0</td>\n",
       "      <td>0</td>\n",
       "      <td>0</td>\n",
       "      <td>0</td>\n",
       "      <td>1</td>\n",
       "      <td>0</td>\n",
       "    </tr>\n",
       "    <tr>\n",
       "      <td>4</td>\n",
       "      <td>0.31</td>\n",
       "      <td>63.3</td>\n",
       "      <td>58.0</td>\n",
       "      <td>335</td>\n",
       "      <td>4.34</td>\n",
       "      <td>4.35</td>\n",
       "      <td>2.75</td>\n",
       "      <td>0</td>\n",
       "      <td>0</td>\n",
       "      <td>0</td>\n",
       "      <td>...</td>\n",
       "      <td>1</td>\n",
       "      <td>0</td>\n",
       "      <td>0</td>\n",
       "      <td>0</td>\n",
       "      <td>0</td>\n",
       "      <td>0</td>\n",
       "      <td>1</td>\n",
       "      <td>0</td>\n",
       "      <td>0</td>\n",
       "      <td>0</td>\n",
       "    </tr>\n",
       "  </tbody>\n",
       "</table>\n",
       "<p>5 rows × 27 columns</p>\n",
       "</div>"
      ],
      "text/plain": [
       "   carat  depth  table  price     x     y     z  color_D  color_E  color_F  \\\n",
       "0   0.23   61.5   55.0    326  3.95  3.98  2.43        0        1        0   \n",
       "1   0.21   59.8   61.0    326  3.89  3.84  2.31        0        1        0   \n",
       "2   0.23   56.9   65.0    327  4.05  4.07  2.31        0        1        0   \n",
       "3   0.29   62.4   58.0    334  4.20  4.23  2.63        0        0        0   \n",
       "4   0.31   63.3   58.0    335  4.34  4.35  2.75        0        0        0   \n",
       "\n",
       "   ...  clarity_SI2  clarity_VS1  clarity_VS2  clarity_VVS1  clarity_VVS2  \\\n",
       "0  ...            1            0            0             0             0   \n",
       "1  ...            0            0            0             0             0   \n",
       "2  ...            0            1            0             0             0   \n",
       "3  ...            0            0            1             0             0   \n",
       "4  ...            1            0            0             0             0   \n",
       "\n",
       "   cut_Fair  cut_Good  cut_Ideal  cut_Premium  cut_Very Good  \n",
       "0         0         0          1            0              0  \n",
       "1         0         0          0            1              0  \n",
       "2         0         1          0            0              0  \n",
       "3         0         0          0            1              0  \n",
       "4         0         1          0            0              0  \n",
       "\n",
       "[5 rows x 27 columns]"
      ]
     },
     "execution_count": 6,
     "metadata": {},
     "output_type": "execute_result"
    }
   ],
   "source": [
    "df.head()"
   ]
  },
  {
   "cell_type": "code",
   "execution_count": 7,
   "metadata": {},
   "outputs": [
    {
     "name": "stdout",
     "output_type": "stream",
     "text": [
      "<class 'pandas.core.frame.DataFrame'>\n",
      "RangeIndex: 53940 entries, 0 to 53939\n",
      "Data columns (total 27 columns):\n",
      "carat            53940 non-null float64\n",
      "depth            53940 non-null float64\n",
      "table            53940 non-null float64\n",
      "price            53940 non-null int64\n",
      "x                53940 non-null float64\n",
      "y                53940 non-null float64\n",
      "z                53940 non-null float64\n",
      "color_D          53940 non-null uint8\n",
      "color_E          53940 non-null uint8\n",
      "color_F          53940 non-null uint8\n",
      "color_G          53940 non-null uint8\n",
      "color_H          53940 non-null uint8\n",
      "color_I          53940 non-null uint8\n",
      "color_J          53940 non-null uint8\n",
      "clarity_I1       53940 non-null uint8\n",
      "clarity_IF       53940 non-null uint8\n",
      "clarity_SI1      53940 non-null uint8\n",
      "clarity_SI2      53940 non-null uint8\n",
      "clarity_VS1      53940 non-null uint8\n",
      "clarity_VS2      53940 non-null uint8\n",
      "clarity_VVS1     53940 non-null uint8\n",
      "clarity_VVS2     53940 non-null uint8\n",
      "cut_Fair         53940 non-null uint8\n",
      "cut_Good         53940 non-null uint8\n",
      "cut_Ideal        53940 non-null uint8\n",
      "cut_Premium      53940 non-null uint8\n",
      "cut_Very Good    53940 non-null uint8\n",
      "dtypes: float64(6), int64(1), uint8(20)\n",
      "memory usage: 3.9 MB\n"
     ]
    }
   ],
   "source": [
    "df.info()"
   ]
  },
  {
   "cell_type": "code",
   "execution_count": 8,
   "metadata": {},
   "outputs": [],
   "source": [
    "from sklearn.model_selection import train_test_split"
   ]
  },
  {
   "cell_type": "code",
   "execution_count": 9,
   "metadata": {},
   "outputs": [],
   "source": [
    "X_train, X_test, y_train, y_test = train_test_split(\n",
    "     df.drop(['price'],axis=1), df.price, test_size=0.33, random_state=42)"
   ]
  },
  {
   "cell_type": "code",
   "execution_count": 10,
   "metadata": {},
   "outputs": [
    {
     "data": {
      "text/plain": [
       "0.981053595350205"
      ]
     },
     "execution_count": 10,
     "metadata": {},
     "output_type": "execute_result"
    }
   ],
   "source": [
    "from sklearn.ensemble import RandomForestRegressor\n",
    "rf = RandomForestRegressor()\n",
    "rf.fit(X_train,y_train)\n",
    "rf.score(X_test,y_test)"
   ]
  },
  {
   "cell_type": "code",
   "execution_count": 11,
   "metadata": {},
   "outputs": [],
   "source": [
    "###########################\n",
    "# create MLP Regressor\n",
    "# add hidden layer = 12, 11\n",
    "# 1. check how to print the loss along the iterations\n",
    "# 2. how to stop the training when the score is not changing more than 0.5% for three iterations?"
   ]
  },
  {
   "cell_type": "code",
   "execution_count": 12,
   "metadata": {},
   "outputs": [
    {
     "name": "stdout",
     "output_type": "stream",
     "text": [
      "Iteration 1, loss = 15459761.38456450\n",
      "Validation score: -0.861248\n",
      "Iteration 2, loss = 13442820.71945870\n",
      "Validation score: -0.448169\n",
      "Iteration 3, loss = 9445582.48770248\n",
      "Validation score: 0.009033\n",
      "Iteration 4, loss = 7702571.64072082\n",
      "Validation score: 0.046483\n",
      "Iteration 5, loss = 7604935.62875154\n",
      "Validation score: 0.054463\n",
      "Iteration 6, loss = 7540380.85478133\n",
      "Validation score: 0.062973\n",
      "Iteration 7, loss = 7467150.27214383\n",
      "Validation score: 0.072824\n",
      "Iteration 8, loss = 7381852.72052317\n",
      "Validation score: 0.084470\n",
      "Iteration 9, loss = 7276704.98927654\n",
      "Validation score: 0.098906\n",
      "Iteration 10, loss = 7140116.83154827\n",
      "Validation score: 0.118993\n",
      "Iteration 11, loss = 6952408.22643964\n",
      "Validation score: 0.146628\n",
      "Iteration 12, loss = 6641484.93671011\n",
      "Validation score: 0.197732\n",
      "Iteration 13, loss = 6151368.89330123\n",
      "Validation score: 0.267729\n",
      "Iteration 14, loss = 5523786.55259531\n",
      "Validation score: 0.352993\n",
      "Iteration 15, loss = 4810935.74752327\n",
      "Validation score: 0.443700\n",
      "Iteration 16, loss = 4076783.12936663\n",
      "Validation score: 0.534652\n",
      "Iteration 17, loss = 3388720.25659297\n",
      "Validation score: 0.613822\n",
      "Iteration 18, loss = 2812146.90353352\n",
      "Validation score: 0.678562\n",
      "Iteration 19, loss = 2367482.17041459\n",
      "Validation score: 0.726455\n",
      "Iteration 20, loss = 2045715.11883190\n",
      "Validation score: 0.761670\n",
      "Iteration 21, loss = 1808815.12638093\n",
      "Validation score: 0.788053\n",
      "Iteration 22, loss = 1628885.64157910\n",
      "Validation score: 0.808813\n",
      "Iteration 23, loss = 1483549.56052045\n",
      "Validation score: 0.826518\n",
      "Iteration 24, loss = 1364439.13340526\n",
      "Validation score: 0.841071\n",
      "Iteration 25, loss = 1266830.67811419\n",
      "Validation score: 0.852722\n",
      "Iteration 26, loss = 1183369.98678939\n",
      "Validation score: 0.862485\n",
      "Iteration 27, loss = 1113973.69216118\n",
      "Validation score: 0.871120\n",
      "Iteration 28, loss = 1055507.14921181\n",
      "Validation score: 0.878263\n",
      "Iteration 29, loss = 1005890.53118911\n",
      "Validation score: 0.884323\n",
      "Iteration 30, loss = 964854.51017584\n",
      "Validation score: 0.889390\n",
      "Iteration 31, loss = 925923.64688436\n",
      "Validation score: 0.894525\n",
      "Iteration 32, loss = 892892.44618664\n",
      "Validation score: 0.898862\n",
      "Iteration 33, loss = 859945.65902990\n",
      "Validation score: 0.902572\n",
      "Iteration 34, loss = 825464.02393048\n",
      "Validation score: 0.907519\n",
      "Iteration 35, loss = 797832.16988204\n",
      "Validation score: 0.910991\n",
      "Validation score did not improve more than tol=0.005000 for 3 consecutive epochs. Stopping.\n"
     ]
    },
    {
     "data": {
      "text/plain": [
       "MLPRegressor(early_stopping=True, hidden_layer_sizes=(12, 11), max_iter=1000,\n",
       "             n_iter_no_change=3, tol=0.005, verbose=True)"
      ]
     },
     "execution_count": 12,
     "metadata": {},
     "output_type": "execute_result"
    }
   ],
   "source": [
    "model = sknn.MLPRegressor(max_iter=1000, hidden_layer_sizes= (12,11), verbose=True,\n",
    "                         early_stopping=True, n_iter_no_change= 3, tol=0.005)\n",
    "model.fit(X_train, y_train)"
   ]
  },
  {
   "cell_type": "code",
   "execution_count": 13,
   "metadata": {},
   "outputs": [],
   "source": [
    "y_pred = model.predict(X_test)"
   ]
  },
  {
   "cell_type": "code",
   "execution_count": 14,
   "metadata": {},
   "outputs": [],
   "source": [
    "###########################\n",
    "# scatter the pred vs y_test\n",
    "# scatter the historgram of the error\n",
    "# what is the final score? \n",
    "# is it the same as the last score above? if not, why?"
   ]
  },
  {
   "cell_type": "code",
   "execution_count": 15,
   "metadata": {},
   "outputs": [
    {
     "data": {
      "text/plain": [
       "<matplotlib.collections.PathCollection at 0x10d46da7808>"
      ]
     },
     "execution_count": 15,
     "metadata": {},
     "output_type": "execute_result"
    },
    {
     "data": {
      "image/png": "[encoded data removed]",
      "text/plain": [
       "<Figure size 432x288 with 1 Axes>"
      ]
     },
     "metadata": {
      "needs_background": "light"
     },
     "output_type": "display_data"
    }
   ],
   "source": [
    "plt.scatter(y_pred, y_test)"
   ]
  },
  {
   "cell_type": "code",
   "execution_count": 16,
   "metadata": {},
   "outputs": [
    {
     "data": {
      "text/plain": [
       "<AxesSubplot:xlabel='price'>"
      ]
     },
     "execution_count": 16,
     "metadata": {},
     "output_type": "execute_result"
    },
    {
     "data": {
      "image/png": "[encoded data removed]",
      "text/plain": [
       "<Figure size 432x288 with 1 Axes>"
      ]
     },
     "metadata": {
      "needs_background": "light"
     },
     "output_type": "display_data"
    }
   ],
   "source": [
    "sb.distplot(y_pred-y_test)"
   ]
  },
  {
   "cell_type": "code",
   "execution_count": 17,
   "metadata": {},
   "outputs": [
    {
     "data": {
      "text/plain": [
       "0.9088847728745769"
      ]
     },
     "execution_count": 17,
     "metadata": {},
     "output_type": "execute_result"
    }
   ],
   "source": [
    "model.score(X_test,y_test)"
   ]
  },
  {
   "cell_type": "code",
   "execution_count": 18,
   "metadata": {},
   "outputs": [],
   "source": [
    "#############################################\n",
    "# investigate  - max_iter, batch_size. beside that, use only parameter of layer=12,11\n",
    "# 1. what is the score when max_iter=20 \n",
    "# 2. how changing batch size influence that?\n",
    "# 3. what happens when you don't specify batch size?"
   ]
  },
  {
   "cell_type": "code",
   "execution_count": 19,
   "metadata": {},
   "outputs": [
    {
     "name": "stdout",
     "output_type": "stream",
     "text": [
      "Iteration 1, loss = 15059528.34143420\n",
      "Iteration 2, loss = 11508760.98058406\n",
      "Iteration 3, loss = 8022278.46028620\n",
      "Iteration 4, loss = 7636799.91770188\n",
      "Iteration 5, loss = 7563802.89849011\n",
      "Iteration 6, loss = 7434895.25060333\n",
      "Iteration 7, loss = 7258506.40692656\n",
      "Iteration 8, loss = 7038970.87937361\n",
      "Iteration 9, loss = 6759968.71793418\n",
      "Iteration 10, loss = 6392198.76848624\n"
     ]
    },
    {
     "name": "stderr",
     "output_type": "stream",
     "text": [
      "C:\\ProgramData\\Anaconda3\\lib\\site-packages\\sklearn\\neural_network\\_multilayer_perceptron.py:585: ConvergenceWarning: Stochastic Optimizer: Maximum iterations (10) reached and the optimization hasn't converged yet.\n",
      "  % self.max_iter, ConvergenceWarning)\n"
     ]
    },
    {
     "data": {
      "text/plain": [
       "MLPRegressor(batch_size=200, hidden_layer_sizes=(12, 11), max_iter=10,\n",
       "             verbose=True)"
      ]
     },
     "execution_count": 19,
     "metadata": {},
     "output_type": "execute_result"
    }
   ],
   "source": [
    "model1 = sknn.MLPRegressor(max_iter=10, hidden_layer_sizes= (12,11), verbose=True,\n",
    "                          batch_size=200)\n",
    "model1.fit(X_train, y_train)"
   ]
  },
  {
   "cell_type": "code",
   "execution_count": 20,
   "metadata": {},
   "outputs": [
    {
     "name": "stdout",
     "output_type": "stream",
     "text": [
      "Iteration 1, loss = 5043853.45656805\n",
      "Iteration 2, loss = 825010.47396695\n",
      "Iteration 3, loss = 567689.04141850\n",
      "Iteration 4, loss = 505014.00117611\n",
      "Iteration 5, loss = 477108.56666361\n",
      "Iteration 6, loss = 454754.11287091\n",
      "Iteration 7, loss = 429198.34710361\n",
      "Iteration 8, loss = 410297.21647653\n",
      "Iteration 9, loss = 399460.19275452\n",
      "Iteration 10, loss = 385151.34985384\n"
     ]
    },
    {
     "name": "stderr",
     "output_type": "stream",
     "text": [
      "C:\\ProgramData\\Anaconda3\\lib\\site-packages\\sklearn\\neural_network\\_multilayer_perceptron.py:585: ConvergenceWarning: Stochastic Optimizer: Maximum iterations (10) reached and the optimization hasn't converged yet.\n",
      "  % self.max_iter, ConvergenceWarning)\n"
     ]
    },
    {
     "data": {
      "text/plain": [
       "MLPRegressor(batch_size=1, hidden_layer_sizes=(12, 11), max_iter=10,\n",
       "             verbose=True)"
      ]
     },
     "execution_count": 20,
     "metadata": {},
     "output_type": "execute_result"
    }
   ],
   "source": [
    "model1 = sknn.MLPRegressor(max_iter=10, hidden_layer_sizes= (12,11), verbose=True,\n",
    "                          batch_size=1)\n",
    "model1.fit(X_train, y_train)"
   ]
  },
  {
   "cell_type": "code",
   "execution_count": 21,
   "metadata": {},
   "outputs": [],
   "source": [
    "#############################\n",
    "# use model.coefs_ to print the below (put the rigth X's)\n",
    "# \"model has input layer with X features, X hidden layers with X,X neurons, and X outputs"
   ]
  },
  {
   "cell_type": "code",
   "execution_count": 22,
   "metadata": {},
   "outputs": [
    {
     "data": {
      "text/plain": [
       "[array([[ 4.00338003e+000,  3.99500540e+000,  4.76475120e+000,\n",
       "         -3.08253737e-002, -1.08437945e-059, -2.85083624e-001,\n",
       "          5.17382174e+000, -4.14715580e+000, -1.12666863e-001,\n",
       "          4.82681363e+000,  5.30691189e+000, -7.83937046e-090],\n",
       "        [ 3.29000361e-001,  4.48934691e-001,  1.49546219e-001,\n",
       "         -1.87497560e-001,  1.37279398e-090, -5.98160519e-002,\n",
       "         -5.90043306e-001,  1.23351660e+000, -8.01838181e-002,\n",
       "          3.22056288e-001, -6.10233410e-001, -5.30235805e-060],\n",
       "        [ 1.28899685e-001,  4.07300331e-001,  2.60716444e-001,\n",
       "          8.86944052e-003,  1.01941999e-066, -4.43050411e-002,\n",
       "         -4.80657263e-001,  1.11236139e+000, -3.50823148e-002,\n",
       "          1.50636118e-001, -4.93856367e-001, -4.15062610e-061],\n",
       "        [ 2.93528075e+000,  3.31619221e+000,  2.77094059e+000,\n",
       "         -7.07204327e-002, -1.27034280e-094, -1.88004019e-002,\n",
       "          4.09769135e+000, -3.05534534e+000, -5.50033511e-002,\n",
       "          3.36291276e+000,  4.07567801e+000, -8.28953759e-071],\n",
       "        [ 2.65869781e+000,  2.90991441e+000,  3.05759229e+000,\n",
       "          1.05035088e-001, -6.70932809e-129,  9.04460274e-002,\n",
       "          3.73102465e+000, -3.02870213e+000,  6.10965087e-002,\n",
       "          2.64748144e+000,  3.86552303e+000,  1.25848325e-114],\n",
       "        [ 2.58095396e+000,  2.42998889e+000,  3.07465110e+000,\n",
       "          3.07015343e-001, -5.27737396e-085,  6.79919847e-002,\n",
       "          3.70108965e+000, -2.84060033e+000, -1.49338984e-002,\n",
       "          3.06588435e+000,  3.99851745e+000, -1.11101877e-064],\n",
       "        [ 1.63973086e+000,  1.48821099e+000,  1.16636759e+000,\n",
       "          5.10478489e-114,  2.66112609e-102,  3.64246379e-125,\n",
       "          4.92651745e-001, -9.02113711e-001, -3.14386970e-118,\n",
       "          1.43763571e+000,  1.96461110e-001,  2.88154566e-118],\n",
       "        [ 1.06116023e+000,  1.22261318e+000,  1.06444051e+000,\n",
       "         -2.13991138e-001, -9.93745051e-117,  1.96692719e-064,\n",
       "          2.41937409e-001, -7.13994828e-001,  2.65876812e-086,\n",
       "          8.40507333e-001,  1.79164259e-001, -1.46769287e-083],\n",
       "        [ 1.45306077e+000,  1.56610639e+000,  1.04727816e+000,\n",
       "         -8.53622840e-078, -1.95388355e-072,  6.97682761e-120,\n",
       "          1.10072100e+000, -7.02652051e-001,  7.31117965e-096,\n",
       "          1.50194479e+000,  1.31431377e+000,  3.68675362e-066],\n",
       "        [ 6.99112773e-001,  9.85961926e-001,  1.33892078e+000,\n",
       "          1.46384740e-078, -9.09874150e-088, -1.92518937e-119,\n",
       "          1.26685995e+000, -2.15053621e-001, -4.14376146e-076,\n",
       "          5.93920216e-001,  1.20566139e+000, -2.69318489e-066],\n",
       "        [-3.86773145e-001,  1.87964818e-001,  4.79873974e-002,\n",
       "         -3.55820250e-077, -5.68812416e-061,  2.97601875e-001,\n",
       "         -6.04072923e-001,  1.14735007e+000,  1.09931092e-002,\n",
       "         -5.08108591e-001, -3.44668091e-001, -3.77736088e-082],\n",
       "        [-7.39814767e-001, -4.01647417e-001, -6.74230534e-001,\n",
       "          4.91428464e-076,  3.72724829e-072,  1.05083909e-080,\n",
       "         -5.25276855e-001,  1.45417305e+000, -7.84367067e-114,\n",
       "         -6.87120620e-001, -3.69828262e-001,  1.74701970e-064],\n",
       "        [-1.33572537e+000, -1.36185046e+000, -1.10209394e+000,\n",
       "          1.94964756e-108, -8.99426529e-102, -1.11457689e-099,\n",
       "         -1.29209040e+000,  2.40745339e+000, -2.41447618e-112,\n",
       "         -1.55817581e+000, -1.34959881e+000, -1.98091787e-062],\n",
       "        [-3.26756024e+000, -3.64319588e+000, -3.62896324e+000,\n",
       "         -9.97987637e-123,  7.31767459e-059,  3.18059561e-070,\n",
       "         -4.32309269e+000,  4.73711186e+000,  1.73186596e-095,\n",
       "         -4.06924547e+000, -4.38143732e+000,  1.56233564e-090],\n",
       "        [ 1.88422501e+000,  1.88026661e+000,  1.68503451e+000,\n",
       "         -4.61896127e-085, -8.92316107e-118,  6.25104378e-075,\n",
       "          1.38342405e+000, -1.88477055e+000,  7.20255211e-079,\n",
       "          2.27170356e+000,  1.24089872e+000,  4.98857575e-071],\n",
       "        [-2.29558709e-001, -2.29555152e-001, -4.74888655e-001,\n",
       "         -3.78406038e-120,  5.04286613e-058,  2.96775998e-068,\n",
       "         -7.90903183e-001,  1.32558213e+000,  2.94950868e-128,\n",
       "         -6.14859756e-001, -1.01462732e+000, -3.35598883e-077],\n",
       "        [-1.68067014e+000, -8.93405785e-001, -1.58747231e+000,\n",
       "          1.09274628e-109, -3.75107675e-113, -9.38349696e-003,\n",
       "         -1.37277076e+000,  2.42119906e+000, -6.33437242e-002,\n",
       "         -1.48148279e+000, -1.28102277e+000, -1.91179062e-080],\n",
       "        [ 1.45801412e+000,  1.57501416e+000,  1.56563294e+000,\n",
       "          3.53578310e-002,  3.15346952e-066, -9.16744017e-124,\n",
       "          1.74784990e+000, -9.12274087e-001,  3.96277103e-099,\n",
       "          1.83126980e+000,  1.66640424e+000, -1.41953051e-080],\n",
       "        [ 1.12732495e+000,  1.08381719e+000,  1.12777073e+000,\n",
       "          2.98339118e-128, -1.21406399e-131,  3.03691172e-123,\n",
       "          1.22277277e+000, -3.07330004e-001, -1.61249501e-085,\n",
       "          8.12898314e-001,  1.18101517e+000, -7.68787443e-091],\n",
       "        [ 1.81443153e+000,  1.57119198e+000,  1.35206646e+000,\n",
       "          8.49517356e-084,  7.52502842e-076,  2.89350270e-123,\n",
       "          6.49013678e-001, -1.52331660e+000,  3.80779299e-068,\n",
       "          1.42301497e+000,  6.26445701e-001, -7.63678138e-091],\n",
       "        [ 2.42646229e+000,  2.04003463e+000,  2.37692193e+000,\n",
       "         -3.08331662e-076,  6.01717899e-076,  1.84878682e-128,\n",
       "          1.93272022e+000, -2.04813075e+000, -3.80932000e-068,\n",
       "          2.52343522e+000,  1.86657302e+000, -5.84112368e-124],\n",
       "        [-6.22643823e-001, -1.69662562e-001, -1.81554378e-001,\n",
       "         -1.07284575e-109, -8.67821896e-084,  5.07799595e-097,\n",
       "         -8.17338813e-001,  1.50559715e+000, -1.45150590e-068,\n",
       "         -4.25404907e-001, -9.23056343e-001, -7.74349080e-074],\n",
       "        [ 5.11034936e-001,  5.86178288e-001,  6.86636808e-001,\n",
       "          3.63871557e-122, -3.01033154e-077, -4.78763560e-072,\n",
       "         -2.22474006e-001,  6.23151972e-001,  1.09359287e-064,\n",
       "          4.02889566e-001, -4.10894594e-001, -7.32270640e-079],\n",
       "        [ 5.24205654e-001,  3.66195866e-001,  3.55971658e-001,\n",
       "         -8.35114828e-081,  5.04364486e-082,  6.02698128e-127,\n",
       "          9.86639138e-003,  3.29430337e-001,  2.79163135e-116,\n",
       "         -2.08562205e-002,  5.08682722e-002,  1.62873063e-118],\n",
       "        [ 2.50537831e-001,  6.52120612e-001,  2.66621189e-001,\n",
       "          1.20724766e-059,  7.71968490e-124, -1.40962709e-001,\n",
       "          6.22819064e-002,  6.43106866e-001, -1.96786046e-002,\n",
       "          6.76953907e-001,  1.12558774e-002, -3.40394097e-066],\n",
       "        [ 4.26993353e-001,  4.49607532e-001,  3.38780356e-001,\n",
       "          3.06509428e-001, -2.04026589e-103, -2.19896535e-068,\n",
       "          2.36258240e-001,  2.49118353e-001,  1.34882358e-126,\n",
       "          1.05211465e+000,  4.03686247e-001, -4.72624459e-126]]),\n",
       " array([[ 1.29808288e+000,  1.67610213e+000,  1.18595840e+000,\n",
       "          2.00966622e+000,  1.83945800e+000,  1.90960185e+000,\n",
       "          1.58169910e+000,  5.69705647e-002, -1.80270203e-001,\n",
       "          1.55871593e+000, -4.69031365e-002],\n",
       "        [ 1.53487564e+000,  1.09369139e+000,  1.37055116e+000,\n",
       "          1.76586322e+000,  9.79867272e-001,  1.26155633e+000,\n",
       "          1.32484070e+000, -3.04543531e-001, -4.97073679e-002,\n",
       "          1.33028188e+000,  2.87270574e-001],\n",
       "        [ 1.98041420e+000,  2.05352032e+000,  8.79173232e-001,\n",
       "          1.34428661e+000,  1.59568045e+000,  1.60770488e+000,\n",
       "          1.41697079e+000,  3.86116902e-001, -8.97005153e-002,\n",
       "          1.68231497e+000, -2.91244801e-001],\n",
       "        [ 2.44163265e-001, -3.86508813e-001, -1.70559559e-001,\n",
       "         -3.46272085e-001,  2.87867981e-001, -1.55312673e-001,\n",
       "          1.67025115e-001,  4.39735476e-001,  7.05145625e-002,\n",
       "         -3.19024396e-001, -2.72635527e-084],\n",
       "        [ 1.14841127e-066,  9.52371150e-072, -9.60972250e-052,\n",
       "         -3.61695730e-120, -1.91737537e-044, -4.00014980e-047,\n",
       "         -3.02563996e-085, -1.10906174e-046, -3.55450653e-076,\n",
       "          3.58664451e-120, -1.39214771e-052],\n",
       "        [ 2.09670636e-002, -1.45141633e-002,  1.13045104e-002,\n",
       "         -4.09368053e-001, -3.51424961e-001,  3.93832013e-001,\n",
       "         -3.11402556e-001, -1.67696146e-001, -1.56022132e-059,\n",
       "         -4.11547382e-001, -7.47313498e-130],\n",
       "        [ 3.33031171e+000,  3.15325112e+000,  3.17149550e+000,\n",
       "          3.62724833e+000,  3.41591227e+000,  3.32121804e+000,\n",
       "          3.22064443e+000,  2.34750986e-080, -3.63779398e-073,\n",
       "          2.90815076e+000, -3.84643363e+000],\n",
       "        [-3.05064584e+000, -3.00253000e+000, -3.58093091e+000,\n",
       "         -3.14212287e+000, -3.03638818e+000, -3.04646543e+000,\n",
       "         -3.05540074e+000,  2.09990680e-109, -8.45736758e-055,\n",
       "         -3.02521061e+000,  3.42623378e+000],\n",
       "        [ 1.82394265e-001, -4.04999801e-002, -6.65838250e-002,\n",
       "         -7.85365380e-002,  2.36096003e-002,  2.12555253e-002,\n",
       "         -1.18850833e-002, -7.78642189e-114, -9.45285365e-094,\n",
       "          1.00358383e-002, -3.76685253e-085],\n",
       "        [ 1.66187444e+000,  1.49226131e+000,  9.29180978e-001,\n",
       "          1.49227781e+000,  2.01332908e+000,  1.12110390e+000,\n",
       "          1.37652844e+000, -1.23387390e-001,  2.47679264e-001,\n",
       "          1.99192960e+000, -2.22389169e-001],\n",
       "        [ 3.37961304e+000,  3.23657401e+000,  3.31396586e+000,\n",
       "          3.80532868e+000,  3.10597772e+000,  3.49586960e+000,\n",
       "          3.41248565e+000,  2.95031772e-128,  6.50172120e-073,\n",
       "          3.51551519e+000, -4.08557204e+000],\n",
       "        [ 1.23432184e-068, -5.71407163e-052, -6.67308735e-075,\n",
       "          5.84842240e-062, -1.67240479e-100, -9.55492595e-092,\n",
       "          1.34645322e-083, -8.98117400e-045,  4.47958479e-099,\n",
       "         -1.21709492e-045, -3.49644560e-044]]),\n",
       " array([[ 2.76647688],\n",
       "        [ 2.91141663],\n",
       "        [ 3.43732046],\n",
       "        [ 2.68665204],\n",
       "        [ 2.88165193],\n",
       "        [ 3.11935135],\n",
       "        [ 3.1942624 ],\n",
       "        [-0.02760619],\n",
       "        [-0.26890992],\n",
       "        [ 2.85949804],\n",
       "        [-5.02169299]])]"
      ]
     },
     "execution_count": 22,
     "metadata": {},
     "output_type": "execute_result"
    }
   ],
   "source": [
    "model.coefs_"
   ]
  },
  {
   "cell_type": "code",
   "execution_count": 23,
   "metadata": {},
   "outputs": [
    {
     "data": {
      "text/plain": [
       "3"
      ]
     },
     "execution_count": 23,
     "metadata": {},
     "output_type": "execute_result"
    }
   ],
   "source": [
    "len(model.coefs_)"
   ]
  },
  {
   "cell_type": "code",
   "execution_count": 24,
   "metadata": {},
   "outputs": [
    {
     "data": {
      "text/plain": [
       "array([[ 4.00338003e+000,  3.99500540e+000,  4.76475120e+000,\n",
       "        -3.08253737e-002, -1.08437945e-059, -2.85083624e-001,\n",
       "         5.17382174e+000, -4.14715580e+000, -1.12666863e-001,\n",
       "         4.82681363e+000,  5.30691189e+000, -7.83937046e-090],\n",
       "       [ 3.29000361e-001,  4.48934691e-001,  1.49546219e-001,\n",
       "        -1.87497560e-001,  1.37279398e-090, -5.98160519e-002,\n",
       "        -5.90043306e-001,  1.23351660e+000, -8.01838181e-002,\n",
       "         3.22056288e-001, -6.10233410e-001, -5.30235805e-060],\n",
       "       [ 1.28899685e-001,  4.07300331e-001,  2.60716444e-001,\n",
       "         8.86944052e-003,  1.01941999e-066, -4.43050411e-002,\n",
       "        -4.80657263e-001,  1.11236139e+000, -3.50823148e-002,\n",
       "         1.50636118e-001, -4.93856367e-001, -4.15062610e-061],\n",
       "       [ 2.93528075e+000,  3.31619221e+000,  2.77094059e+000,\n",
       "        -7.07204327e-002, -1.27034280e-094, -1.88004019e-002,\n",
       "         4.09769135e+000, -3.05534534e+000, -5.50033511e-002,\n",
       "         3.36291276e+000,  4.07567801e+000, -8.28953759e-071],\n",
       "       [ 2.65869781e+000,  2.90991441e+000,  3.05759229e+000,\n",
       "         1.05035088e-001, -6.70932809e-129,  9.04460274e-002,\n",
       "         3.73102465e+000, -3.02870213e+000,  6.10965087e-002,\n",
       "         2.64748144e+000,  3.86552303e+000,  1.25848325e-114],\n",
       "       [ 2.58095396e+000,  2.42998889e+000,  3.07465110e+000,\n",
       "         3.07015343e-001, -5.27737396e-085,  6.79919847e-002,\n",
       "         3.70108965e+000, -2.84060033e+000, -1.49338984e-002,\n",
       "         3.06588435e+000,  3.99851745e+000, -1.11101877e-064],\n",
       "       [ 1.63973086e+000,  1.48821099e+000,  1.16636759e+000,\n",
       "         5.10478489e-114,  2.66112609e-102,  3.64246379e-125,\n",
       "         4.92651745e-001, -9.02113711e-001, -3.14386970e-118,\n",
       "         1.43763571e+000,  1.96461110e-001,  2.88154566e-118],\n",
       "       [ 1.06116023e+000,  1.22261318e+000,  1.06444051e+000,\n",
       "        -2.13991138e-001, -9.93745051e-117,  1.96692719e-064,\n",
       "         2.41937409e-001, -7.13994828e-001,  2.65876812e-086,\n",
       "         8.40507333e-001,  1.79164259e-001, -1.46769287e-083],\n",
       "       [ 1.45306077e+000,  1.56610639e+000,  1.04727816e+000,\n",
       "        -8.53622840e-078, -1.95388355e-072,  6.97682761e-120,\n",
       "         1.10072100e+000, -7.02652051e-001,  7.31117965e-096,\n",
       "         1.50194479e+000,  1.31431377e+000,  3.68675362e-066],\n",
       "       [ 6.99112773e-001,  9.85961926e-001,  1.33892078e+000,\n",
       "         1.46384740e-078, -9.09874150e-088, -1.92518937e-119,\n",
       "         1.26685995e+000, -2.15053621e-001, -4.14376146e-076,\n",
       "         5.93920216e-001,  1.20566139e+000, -2.69318489e-066],\n",
       "       [-3.86773145e-001,  1.87964818e-001,  4.79873974e-002,\n",
       "        -3.55820250e-077, -5.68812416e-061,  2.97601875e-001,\n",
       "        -6.04072923e-001,  1.14735007e+000,  1.09931092e-002,\n",
       "        -5.08108591e-001, -3.44668091e-001, -3.77736088e-082],\n",
       "       [-7.39814767e-001, -4.01647417e-001, -6.74230534e-001,\n",
       "         4.91428464e-076,  3.72724829e-072,  1.05083909e-080,\n",
       "        -5.25276855e-001,  1.45417305e+000, -7.84367067e-114,\n",
       "        -6.87120620e-001, -3.69828262e-001,  1.74701970e-064],\n",
       "       [-1.33572537e+000, -1.36185046e+000, -1.10209394e+000,\n",
       "         1.94964756e-108, -8.99426529e-102, -1.11457689e-099,\n",
       "        -1.29209040e+000,  2.40745339e+000, -2.41447618e-112,\n",
       "        -1.55817581e+000, -1.34959881e+000, -1.98091787e-062],\n",
       "       [-3.26756024e+000, -3.64319588e+000, -3.62896324e+000,\n",
       "        -9.97987637e-123,  7.31767459e-059,  3.18059561e-070,\n",
       "        -4.32309269e+000,  4.73711186e+000,  1.73186596e-095,\n",
       "        -4.06924547e+000, -4.38143732e+000,  1.56233564e-090],\n",
       "       [ 1.88422501e+000,  1.88026661e+000,  1.68503451e+000,\n",
       "        -4.61896127e-085, -8.92316107e-118,  6.25104378e-075,\n",
       "         1.38342405e+000, -1.88477055e+000,  7.20255211e-079,\n",
       "         2.27170356e+000,  1.24089872e+000,  4.98857575e-071],\n",
       "       [-2.29558709e-001, -2.29555152e-001, -4.74888655e-001,\n",
       "        -3.78406038e-120,  5.04286613e-058,  2.96775998e-068,\n",
       "        -7.90903183e-001,  1.32558213e+000,  2.94950868e-128,\n",
       "        -6.14859756e-001, -1.01462732e+000, -3.35598883e-077],\n",
       "       [-1.68067014e+000, -8.93405785e-001, -1.58747231e+000,\n",
       "         1.09274628e-109, -3.75107675e-113, -9.38349696e-003,\n",
       "        -1.37277076e+000,  2.42119906e+000, -6.33437242e-002,\n",
       "        -1.48148279e+000, -1.28102277e+000, -1.91179062e-080],\n",
       "       [ 1.45801412e+000,  1.57501416e+000,  1.56563294e+000,\n",
       "         3.53578310e-002,  3.15346952e-066, -9.16744017e-124,\n",
       "         1.74784990e+000, -9.12274087e-001,  3.96277103e-099,\n",
       "         1.83126980e+000,  1.66640424e+000, -1.41953051e-080],\n",
       "       [ 1.12732495e+000,  1.08381719e+000,  1.12777073e+000,\n",
       "         2.98339118e-128, -1.21406399e-131,  3.03691172e-123,\n",
       "         1.22277277e+000, -3.07330004e-001, -1.61249501e-085,\n",
       "         8.12898314e-001,  1.18101517e+000, -7.68787443e-091],\n",
       "       [ 1.81443153e+000,  1.57119198e+000,  1.35206646e+000,\n",
       "         8.49517356e-084,  7.52502842e-076,  2.89350270e-123,\n",
       "         6.49013678e-001, -1.52331660e+000,  3.80779299e-068,\n",
       "         1.42301497e+000,  6.26445701e-001, -7.63678138e-091],\n",
       "       [ 2.42646229e+000,  2.04003463e+000,  2.37692193e+000,\n",
       "        -3.08331662e-076,  6.01717899e-076,  1.84878682e-128,\n",
       "         1.93272022e+000, -2.04813075e+000, -3.80932000e-068,\n",
       "         2.52343522e+000,  1.86657302e+000, -5.84112368e-124],\n",
       "       [-6.22643823e-001, -1.69662562e-001, -1.81554378e-001,\n",
       "        -1.07284575e-109, -8.67821896e-084,  5.07799595e-097,\n",
       "        -8.17338813e-001,  1.50559715e+000, -1.45150590e-068,\n",
       "        -4.25404907e-001, -9.23056343e-001, -7.74349080e-074],\n",
       "       [ 5.11034936e-001,  5.86178288e-001,  6.86636808e-001,\n",
       "         3.63871557e-122, -3.01033154e-077, -4.78763560e-072,\n",
       "        -2.22474006e-001,  6.23151972e-001,  1.09359287e-064,\n",
       "         4.02889566e-001, -4.10894594e-001, -7.32270640e-079],\n",
       "       [ 5.24205654e-001,  3.66195866e-001,  3.55971658e-001,\n",
       "        -8.35114828e-081,  5.04364486e-082,  6.02698128e-127,\n",
       "         9.86639138e-003,  3.29430337e-001,  2.79163135e-116,\n",
       "        -2.08562205e-002,  5.08682722e-002,  1.62873063e-118],\n",
       "       [ 2.50537831e-001,  6.52120612e-001,  2.66621189e-001,\n",
       "         1.20724766e-059,  7.71968490e-124, -1.40962709e-001,\n",
       "         6.22819064e-002,  6.43106866e-001, -1.96786046e-002,\n",
       "         6.76953907e-001,  1.12558774e-002, -3.40394097e-066],\n",
       "       [ 4.26993353e-001,  4.49607532e-001,  3.38780356e-001,\n",
       "         3.06509428e-001, -2.04026589e-103, -2.19896535e-068,\n",
       "         2.36258240e-001,  2.49118353e-001,  1.34882358e-126,\n",
       "         1.05211465e+000,  4.03686247e-001, -4.72624459e-126]])"
      ]
     },
     "execution_count": 24,
     "metadata": {},
     "output_type": "execute_result"
    }
   ],
   "source": [
    "model.coefs_[0]"
   ]
  },
  {
   "cell_type": "code",
   "execution_count": 25,
   "metadata": {},
   "outputs": [
    {
     "data": {
      "text/plain": [
       "(26, 12)"
      ]
     },
     "execution_count": 25,
     "metadata": {},
     "output_type": "execute_result"
    }
   ],
   "source": [
    "model.coefs_[0].shape"
   ]
  },
  {
   "cell_type": "code",
   "execution_count": 26,
   "metadata": {},
   "outputs": [
    {
     "data": {
      "text/plain": [
       "(12, 11)"
      ]
     },
     "execution_count": 26,
     "metadata": {},
     "output_type": "execute_result"
    }
   ],
   "source": [
    "model.coefs_[1].shape"
   ]
  },
  {
   "cell_type": "code",
   "execution_count": 27,
   "metadata": {},
   "outputs": [
    {
     "data": {
      "text/plain": [
       "(11, 1)"
      ]
     },
     "execution_count": 27,
     "metadata": {},
     "output_type": "execute_result"
    }
   ],
   "source": [
    "model.coefs_[2].shape"
   ]
  },
  {
   "cell_type": "code",
   "execution_count": 28,
   "metadata": {},
   "outputs": [
    {
     "data": {
      "text/plain": [
       "455"
      ]
     },
     "execution_count": 28,
     "metadata": {},
     "output_type": "execute_result"
    }
   ],
   "source": [
    "26*12+12*11+11"
   ]
  },
  {
   "cell_type": "code",
   "execution_count": 29,
   "metadata": {},
   "outputs": [
    {
     "name": "stdout",
     "output_type": "stream",
     "text": [
      "model has input layer with 26 features, 2 hidden layers, with (12, 11) neurons, and 1 outputs\n"
     ]
    }
   ],
   "source": [
    "print(f\"model has input layer with {model.coefs_[0].shape[0] } features, \\\n",
    "{ len(model.coefs_)-1} hidden layers, \\\n",
    "with {model.coefs_[1].shape} neurons, \\\n",
    "and {model.coefs_[2].shape[1]} outputs\")"
   ]
  }
 ],
 "metadata": {
  "kernelspec": {
   "display_name": "Python 3",
   "language": "python",
   "name": "python3"
  },
  "language_info": {
   "codemirror_mode": {
    "name": "ipython",
    "version": 3
   },
   "file_extension": ".py",
   "mimetype": "text/x-python",
   "name": "python",
   "nbconvert_exporter": "python",
   "pygments_lexer": "ipython3",
   "version": "3.7.4"
  }
 },
 "nbformat": 4,
 "nbformat_minor": 2
}
